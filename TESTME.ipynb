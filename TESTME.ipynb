{
 "cells": [
  {
   "cell_type": "markdown",
   "metadata": {
    "pycharm": {
     "name": "#%% md\n"
    }
   },
   "source": [
    "## Test mlflow setup\n",
    "\n",
    "- Make sure you have a mlflow instance running - refer to [README.md](./README.md)"
   ]
  },
  {
   "cell_type": "code",
   "execution_count": 1,
   "metadata": {},
   "outputs": [],
   "source": [
    "import os\n",
    "\n",
    "import mlflow"
   ]
  },
  {
   "cell_type": "markdown",
   "metadata": {
    "pycharm": {
     "name": "#%% md\n"
    }
   },
   "source": [
    "### Create mlflow experiment + test parameter/metric logging"
   ]
  },
  {
   "cell_type": "code",
   "execution_count": 7,
   "metadata": {
    "pycharm": {
     "name": "#%%\n"
    }
   },
   "outputs": [],
   "source": [
    "mlflow_uri = \"http://localhost:5000\" # change to your uri + port\n",
    "\n",
    "mlflow.set_tracking_uri(mlflow_uri)\n",
    "\n",
    "exp_id = mlflow.set_experiment(\"mlflow_test1\")\n",
    "\n",
    "mlflow.log_param(\"param1\", \"value1\")\n",
    "mlflow.log_param(\"param2\", \"value2\")\n",
    "\n",
    "for i in range(10):\n",
    "    mlflow.log_metric(\"metric1\", value=1/(i+1), step=i)\n",
    "\n",
    "mlflow.end_run()"
   ]
  },
  {
   "cell_type": "markdown",
   "metadata": {
    "pycharm": {
     "name": "#%% md\n"
    }
   },
   "source": [
    "- Navigate to e.g. \"http://localhost:5000\" -> experiments\n",
    "- Check if a new experiment was created \"mlflow_test1\" with parameters (param1, param2) and metric1"
   ]
  },
  {
   "cell_type": "markdown",
   "metadata": {
    "pycharm": {
     "name": "#%% md\n"
    }
   },
   "source": [
    "#### Test artifact logging with s3 backend\n",
    "\n",
    "- Important concepts\n",
    " - the client needs to be aware of the s3 credentials + s3 host/endpoint - therefore we set the corresponding env vars based on the env.sh (here as an example)\n",
    " - The bucket name + folder is defined within mlflow server backend settings - if not overwritten/defined otherwise\n",
    " - The mlflow server backend only needs the credentials to access uploaded/logged artifacts from within the ui (e.g. http://localhost:5000)\n",
    "- There are other options - refer to https://www.mlflow.org/docs/latest/tracking.html#artifact-stores"
   ]
  },
  {
   "cell_type": "code",
   "execution_count": 3,
   "metadata": {
    "pycharm": {
     "name": "#%%\n"
    }
   },
   "outputs": [],
   "source": [
    "# set the env variables - for s3 host + credentials\n",
    "s3_vars = [\"AWS_ACCESS_KEY_ID\", \"AWS_SECRET_ACCESS_KEY\", \"MLFLOW_S3_ENDPOINT_URL\"]\n",
    "with open(\"env.sh\", \"r\") as env_file:\n",
    "    for line in env_file:\n",
    "        if line.startswith(\"export \"):\n",
    "            env_var, value = line[len(\"export \"):].replace(\"\\n\", \"\").split(\"=\")\n",
    "            value = value.split(\" \")[0]\n",
    "\n",
    "            if env_var in s3_vars:\n",
    "                os.environ[env_var] = value\n",
    "\n",
    "exp_id = mlflow.set_experiment(\"mlflow_test_artifacts1\")\n",
    "\n",
    "mlflow.log_artifact(\"./test-file.pdf\")\n",
    "\n",
    "mlflow.end_run()"
   ]
  },
  {
   "cell_type": "markdown",
   "metadata": {
    "pycharm": {
     "name": "#%% md\n"
    }
   },
   "source": [
    "- After logging navigate to e.g. \"http://localhost:5000\" -> experiments\n",
    "- Within the created experiment \"mlflow_test_artifacts1\" there should be an artifact \"test-file.pdf\".\n",
    "- Path will look like something \"s3://yourbucketname/yourfoldername/2/<UUID>/test-file.pdf\""
   ]
  }
 ],
 "metadata": {
  "kernelspec": {
   "display_name": "Python 3",
   "language": "python",
   "name": "python3"
  },
  "language_info": {
   "codemirror_mode": {
    "name": "ipython",
    "version": 3
   },
   "file_extension": ".py",
   "mimetype": "text/x-python",
   "name": "python",
   "nbconvert_exporter": "python",
   "pygments_lexer": "ipython3",
   "version": "3.7.10"
  }
 },
 "nbformat": 4,
 "nbformat_minor": 1
}
