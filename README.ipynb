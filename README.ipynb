{
 "cells": [
  {
   "cell_type": "markdown",
   "source": [
    "### Test mlflow setup\n",
    "\n",
    "- Make sure you have a mlflow instance running - refer to [README.md](./README.md)"
   ],
   "metadata": {
    "collapsed": false,
    "pycharm": {
     "name": "#%% md\n"
    }
   }
  },
  {
   "cell_type": "code",
   "execution_count": 2,
   "metadata": {
    "collapsed": true
   },
   "outputs": [],
   "source": [
    "import os\n",
    "\n",
    "import mlflow"
   ]
  },
  {
   "cell_type": "markdown",
   "source": [
    "#### Create mlflow experiment + test parameter/metric logging"
   ],
   "metadata": {
    "collapsed": false,
    "pycharm": {
     "name": "#%% md\n"
    }
   }
  },
  {
   "cell_type": "code",
   "execution_count": 3,
   "outputs": [
    {
     "name": "stdout",
     "output_type": "stream",
     "text": [
      "INFO: 'mlflow_test1' does not exist. Creating a new experiment\n"
     ]
    }
   ],
   "source": [
    "mlflow.set_tracking_uri(\"http://localhost:5000\")\n",
    "\n",
    "exp_id = mlflow.set_experiment(\"mlflow_test1\")\n",
    "\n",
    "mlflow.log_param(\"param1\", \"value1\")\n",
    "mlflow.log_param(\"param2\", \"value2\")\n",
    "\n",
    "for i in range(10):\n",
    "    mlflow.log_metric(\"metric1\", value=1/(i+1), step=i)\n",
    "\n",
    "mlflow.end_run()"
   ],
   "metadata": {
    "collapsed": false,
    "pycharm": {
     "name": "#%%\n"
    }
   }
  },
  {
   "cell_type": "markdown",
   "source": [
    "- Navigate to e.g. \"http://localhost:5000\" -> experiments\n",
    "- Check if a new experiment was created \"mlflow_test1\" with parameters (param1, param2) and metric1"
   ],
   "metadata": {
    "collapsed": false,
    "pycharm": {
     "name": "#%% md\n"
    }
   }
  },
  {
   "cell_type": "markdown",
   "source": [
    "#### Test artifact logging with s3 backend\n",
    "\n",
    "- Important concepts\n",
    " - the client needs to be aware of the s3 credentials + s3 host/endpoint - therefore we set the corresponding env vars based on the env.sh (here as an example)\n",
    " - The bucket name + folder is defined within mlflow server backend settings - if not overwritten/defined otherwise\n",
    " - The mlflow server backend only needs the credentials to access uploaded/logged artifacts from within the ui (e.g. http://localhost:5000)\n",
    "- There are other options - refer to https://www.mlflow.org/docs/latest/tracking.html#artifact-stores"
   ],
   "metadata": {
    "collapsed": false,
    "pycharm": {
     "name": "#%% md\n"
    }
   }
  },
  {
   "cell_type": "code",
   "execution_count": 4,
   "outputs": [
    {
     "name": "stdout",
     "output_type": "stream",
     "text": [
      "INFO: 'mlflow_test_artifacts1' does not exist. Creating a new experiment\n"
     ]
    }
   ],
   "source": [
    "# set the env variables - for s3 host + credentials\n",
    "s3_vars = [\"AWS_ACCESS_KEY_ID\", \"AWS_SECRET_ACCESS_KEY\", \"MLFLOW_S3_ENDPOINT_URL\"]\n",
    "with open(\"env.sh\", \"r\") as env_file:\n",
    "    for line in env_file:\n",
    "        if line.startswith(\"export \"):\n",
    "            env_var, value = line[len(\"export \"):].replace(\"\\n\", \"\").split(\"=\")\n",
    "            value = value.split(\" \")[0]\n",
    "\n",
    "            if env_var in s3_vars:\n",
    "                os.environ[env_var] = value\n",
    "\n",
    "exp_id = mlflow.set_experiment(\"mlflow_test_artifacts1\")\n",
    "\n",
    "mlflow.log_artifact(\"./test-file.pdf\")\n",
    "\n",
    "mlflow.end_run()"
   ],
   "metadata": {
    "collapsed": false,
    "pycharm": {
     "name": "#%%\n"
    }
   }
  },
  {
   "cell_type": "markdown",
   "source": [
    "- After logging navigate to e.g. \"http://localhost:5000\" -> experiments\n",
    "- Within the created experiment \"mlflow_test_artifacts1\" there should be an artifact \"test-file.pdf\".\n",
    "- Path will look like something \"s3://yourbucketname/yourfoldername/2/<UUID>/test-file.pdf\""
   ],
   "metadata": {
    "collapsed": false,
    "pycharm": {
     "name": "#%% md\n"
    }
   }
  }
 ],
 "metadata": {
  "kernelspec": {
   "display_name": "Python 3",
   "language": "python",
   "name": "python3"
  },
  "language_info": {
   "codemirror_mode": {
    "name": "ipython",
    "version": 2
   },
   "file_extension": ".py",
   "mimetype": "text/x-python",
   "name": "python",
   "nbconvert_exporter": "python",
   "pygments_lexer": "ipython2",
   "version": "2.7.6"
  }
 },
 "nbformat": 4,
 "nbformat_minor": 0
}